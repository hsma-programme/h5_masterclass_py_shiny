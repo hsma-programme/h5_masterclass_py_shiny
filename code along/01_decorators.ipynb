{
 "cells": [
  {
   "cell_type": "markdown",
   "id": "6f83e55d",
   "metadata": {},
   "source": [
    "## Decorators\n",
    "\n",
    "For those not familiar, you'll notice that certain functions written in Shiny for Python will have preceding ```@something``` on the lines before them. These are decorators, and we thought that it would be useful to explain a little more about these for your broader understanding.\n",
    "\n",
    "Decorators are a way to change or modify the behaviour of any of our functions without directly changing any of the code. They are not specific to Shiny but used more boardly in Python.\n",
    "\n",
    "First, we'll take a step back. Before learning about decorators, we need to learn about a fundamental aspect of functions in Python: they can be represented as objects.\n",
    "\n",
    "Before we get started, let’s remind ourselves about functions…"
   ]
  },
  {
   "cell_type": "code",
   "execution_count": null,
   "id": "009f2e0a",
   "metadata": {},
   "outputs": [],
   "source": [
    "def f1():\n",
    "    print(\"Called f1\")\n",
    "    \n",
    "# Lets call this new function    \n",
    "f1()"
   ]
  },
  {
   "cell_type": "markdown",
   "id": "91a4d83b",
   "metadata": {},
   "source": [
    "What happens if we try and print that function (without the brackets)?"
   ]
  },
  {
   "cell_type": "code",
   "execution_count": null,
   "id": "6c458641",
   "metadata": {},
   "outputs": [],
   "source": [
    "print(f1)"
   ]
  },
  {
   "cell_type": "markdown",
   "id": "0957ee30",
   "metadata": {},
   "source": [
    "We can see from the above that we get an output about `function f1` and a memory address. This tells us that `f1` is an **object**, and as such we can pass it around the program. Lets check out what that means with a new function, `f2` which has a variable `fx`."
   ]
  },
  {
   "cell_type": "code",
   "execution_count": null,
   "id": "f4718299",
   "metadata": {},
   "outputs": [],
   "source": [
    "def f1():\n",
    "    print(\"Called f1\")\n",
    "\n",
    "# New function, f2 below - taking argument 'fx'\n",
    "def f2(fx):\n",
    "    '''Calls argument argument fx'''\n",
    "    fx()\n",
    "\n",
    "# What happens when we run the below??\n",
    "f2(f1)"
   ]
  },
  {
   "cell_type": "markdown",
   "id": "d02a73a9",
   "metadata": {},
   "source": [
    "From the above we can see that as we're able to represent functions as objects: it worked properly (i.e. printed `Called f1` to screen).\n",
    "\n",
    "How did this work? `f1` is an object that represents the function, `f1()`. Since it's an object we can pass it parameters, store it in variables, etc. \n",
    "\n",
    "When we call the function `f2()` and pass in the object representing `f1()` - then we're calling that function from inside of `f2()` resulting in the print statement we see above.\n",
    "\n",
    "We all need to understand these basic principles of the above to understand decorators...\n",
    "\n",
    "Next we'll consider another aspect of functions called **wrapper functions**. Below we'll declare a new function, `g1()` that takes in another function as a parameter. This time however, we are going to declare a secondary wrapper function. This wrapper function is going to do three things (in sequence). These are:\n",
    "1. print a string i.e. \"Started\"\n",
    "2. call the function that was passed in to `g1` as a parameter\n",
    "3. print a string i.e. \"Ended\""
   ]
  },
  {
   "cell_type": "code",
   "execution_count": null,
   "id": "75e17bdd",
   "metadata": {},
   "outputs": [],
   "source": [
    "def g1(func):\n",
    "    def wrapper():\n",
    "        '''This wrapper function is going to print\n",
    "        out some value, call the passed in function\n",
    "        and print something else'''\n",
    "        print(\"Started\")\n",
    "        func() # running the passed in function\n",
    "        print(\"Ended\")\n",
    "        \n",
    "    # we need to trigger the above wrapper function\n",
    "    # so we call it...\n",
    "    return wrapper"
   ]
  },
  {
   "cell_type": "markdown",
   "id": "89373f88",
   "metadata": {},
   "source": [
    "You'll notice that in the code above a value called `wrapper` is returned. This means when function `g1()` is called, we're going to pass in another function. Then return another function (i.e. `wrapper`) that has the passed in function's functionality inside of it.\n",
    "\n",
    "The result is a statement (\"Started\"), running of passed in function and then finally another print statement (\"Ended\").\n",
    "\n",
    "To see this in action we'll declare a new function, `g()`, below."
   ]
  },
  {
   "cell_type": "code",
   "execution_count": null,
   "id": "9658092a",
   "metadata": {},
   "outputs": [],
   "source": [
    "def g():\n",
    "    print(\"Hello\")"
   ]
  },
  {
   "cell_type": "markdown",
   "id": "1cd9df0a",
   "metadata": {},
   "source": [
    "What happens when we run `g1` using `g` as a parameter..."
   ]
  },
  {
   "cell_type": "code",
   "execution_count": null,
   "id": "46bed96f",
   "metadata": {},
   "outputs": [],
   "source": [
    "g1(g)"
   ]
  },
  {
   "cell_type": "markdown",
   "id": "545ca4c8",
   "metadata": {},
   "source": [
    "Not quite what you may have expected. But if we modify the code as per below, what we're essentially doing is the following:\n",
    "- running the function `g1()` with the function `g` as a parameter\n",
    "- this is returning the bundled up function\n",
    "- this then needs to be called (with the `()` )"
   ]
  },
  {
   "cell_type": "code",
   "execution_count": null,
   "id": "18042870",
   "metadata": {},
   "outputs": [],
   "source": [
    "g1(g)()"
   ]
  },
  {
   "cell_type": "markdown",
   "id": "93726590",
   "metadata": {},
   "source": [
    "Ta da! The above worked as expected.\n",
    "\n",
    "If we test the below, it looks similar to the output of running\n",
    "\n",
    "```python\n",
    "print(f1)\n",
    "```\n",
    "\n",
    "Take a look for yourself..."
   ]
  },
  {
   "cell_type": "code",
   "execution_count": null,
   "id": "d55855ff",
   "metadata": {},
   "outputs": [],
   "source": [
    "print(g1(g))"
   ]
  },
  {
   "cell_type": "markdown",
   "id": "ea64a2ab",
   "metadata": {},
   "source": [
    "Now, if we create a new variable, `h` from the returned function of `g1` - lets see what happens when we call it..."
   ]
  },
  {
   "cell_type": "code",
   "execution_count": null,
   "id": "e340bf5d",
   "metadata": {},
   "outputs": [],
   "source": [
    "h = g1(g)\n",
    "\n",
    "h()"
   ]
  },
  {
   "cell_type": "markdown",
   "id": "bd9d24ab",
   "metadata": {},
   "source": [
    "Just to demonstrate that we can use any variable name...."
   ]
  },
  {
   "cell_type": "code",
   "execution_count": null,
   "id": "bacd14da",
   "metadata": {},
   "outputs": [],
   "source": [
    "def k1(func):\n",
    "    def wrapper():\n",
    "        print(\"Started\")\n",
    "        func() # running the passed in function\n",
    "        print(\"Ended\")\n",
    "        \n",
    "    # we need to trigger the above wrapper function\n",
    "    # so we call it...\n",
    "    return wrapper\n",
    "\n",
    "def k():\n",
    "    print(\"Hello\")\n",
    "\n",
    "x = k1(k)\n",
    "\n",
    "x()"
   ]
  },
  {
   "cell_type": "markdown",
   "id": "ec2a4be6",
   "metadata": {},
   "source": [
    "The following can be replaced with a decorator (i.e. using the `@` symbol)\n",
    "```python\n",
    "x = k1(k)\n",
    "```"
   ]
  },
  {
   "cell_type": "code",
   "execution_count": null,
   "id": "1a63c47d",
   "metadata": {},
   "outputs": [],
   "source": [
    "# Before\n",
    "k()"
   ]
  },
  {
   "cell_type": "code",
   "execution_count": null,
   "id": "217f3d96",
   "metadata": {},
   "outputs": [],
   "source": [
    "# Use the decorator\n",
    "@k1\n",
    "def m():\n",
    "    print(\"Hello\")"
   ]
  },
  {
   "cell_type": "markdown",
   "id": "0897258b",
   "metadata": {},
   "source": [
    "The addition of the decorator `@k1` now modifies the behaviour of the function `m`, which simply prints \"Hello\". \n",
    "\n",
    "i.e. adding the preceeding and successive strings `Started` and `Ended` automatically.\n",
    "\n",
    "Take a look..."
   ]
  },
  {
   "cell_type": "code",
   "execution_count": null,
   "id": "8f5efec0",
   "metadata": {},
   "outputs": [],
   "source": [
    "# After\n",
    "m()"
   ]
  },
  {
   "cell_type": "markdown",
   "id": "e8169ab5",
   "metadata": {},
   "source": [
    "### *args* and *kwargs*\n",
    "\n",
    "This next section is to further develop your understanding of decorators. By using `args` and `kwargs` we're able to pass in other variables.\n",
    "\n",
    "If we try and pass in the string \"Hi\" below to a new function, `n` then check out the result..."
   ]
  },
  {
   "cell_type": "code",
   "execution_count": null,
   "id": "75ac7550",
   "metadata": {},
   "outputs": [],
   "source": [
    "@k1 # remember this puts 'Started' and 'Ended' before and after the function...\n",
    "def n(a):\n",
    "    print(a)\n",
    "    \n",
    "n(\"Hi\")"
   ]
  },
  {
   "cell_type": "markdown",
   "id": "06b58d96",
   "metadata": {},
   "source": [
    "Notice that there are no parameters...\n",
    "```python\n",
    "    def wrapper():\n",
    "        print(\"Started\")\n",
    "        func()\n",
    "        print(\"Ended\")\n",
    "```\n",
    "\n",
    "We'll add ```*args``` and ```**kwargs``` as highlighted below!"
   ]
  },
  {
   "cell_type": "code",
   "execution_count": null,
   "id": "d8ea4e4e",
   "metadata": {},
   "outputs": [],
   "source": [
    "def k1(func):\n",
    "    def wrapper(*args, **kwargs): # <- added here\n",
    "        print(\"Started\")\n",
    "        func(*args, **kwargs) # <- and added here, too\n",
    "        print(\"Ended\")\n",
    "\n",
    "    return wrapper"
   ]
  },
  {
   "cell_type": "markdown",
   "id": "85065e33",
   "metadata": {},
   "source": [
    "The above allows us to have any number/ amount of arguments - we don’t know what those argument will be, or if there will be any keyword, or regular (in-place) arguments. All we know is that there will be some kind of arguments. The same thing goes for the function that is wrapped by the function *k1()*"
   ]
  },
  {
   "cell_type": "code",
   "execution_count": null,
   "id": "98e80797",
   "metadata": {
    "scrolled": true
   },
   "outputs": [],
   "source": [
    "@k1 # remember this puts 'Started' and 'Ended' before and after the function...\n",
    "def n(a):\n",
    "    print(a)\n",
    "    \n",
    "n(\"Hi\")"
   ]
  },
  {
   "cell_type": "markdown",
   "id": "6f4ef0a8",
   "metadata": {},
   "source": [
    "We can then make a new function, `p` that has **two** arguments..."
   ]
  },
  {
   "cell_type": "code",
   "execution_count": null,
   "id": "9d3d9429",
   "metadata": {},
   "outputs": [],
   "source": [
    "@k1 # remember this puts 'Started' and 'Ended' before and after the function...\n",
    "def p(a, b=9):\n",
    "    print(a, b)\n",
    "    \n",
    "p(\"Hi\")"
   ]
  },
  {
   "cell_type": "markdown",
   "id": "aa74e1ad",
   "metadata": {},
   "source": [
    "... or **three**"
   ]
  },
  {
   "cell_type": "code",
   "execution_count": null,
   "id": "094297a6",
   "metadata": {},
   "outputs": [],
   "source": [
    "@k1 # remember this puts 'Started' and 'Ended' before and after the function...\n",
    "def p(a, b, c=9):\n",
    "    print(a, b, c)\n",
    "    \n",
    "p(\"Hi\", \"Bob\")"
   ]
  },
  {
   "cell_type": "markdown",
   "id": "186d3eeb",
   "metadata": {},
   "source": [
    "The end."
   ]
  }
 ],
 "metadata": {
  "kernelspec": {
   "display_name": "Python 3 (ipykernel)",
   "language": "python",
   "name": "python3"
  },
  "language_info": {
   "codemirror_mode": {
    "name": "ipython",
    "version": 3
   },
   "file_extension": ".py",
   "mimetype": "text/x-python",
   "name": "python",
   "nbconvert_exporter": "python",
   "pygments_lexer": "ipython3",
   "version": "3.9.13"
  }
 },
 "nbformat": 4,
 "nbformat_minor": 5
}
